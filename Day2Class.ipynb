{
 "cells": [
  {
   "cell_type": "code",
   "execution_count": null,
   "id": "16888ffe",
   "metadata": {},
   "outputs": [
    {
     "name": "stdout",
     "output_type": "stream",
     "text": [
      "['apple', 'banana', 'coconut', 'orange']\n"
     ]
    }
   ],
   "source": [
    "#List in Python\n",
    "fruits = [\"apple\", \"orange\", \"banana\", \"coconut\"]\n",
    "fruits.sort()\n",
    "print(fruits)"
   ]
  },
  {
   "cell_type": "code",
   "execution_count": 10,
   "id": "491886cd",
   "metadata": {},
   "outputs": [
    {
     "name": "stdout",
     "output_type": "stream",
     "text": [
      "['apple', 'banana', 'coconut', 'orange']\n",
      "orange\n",
      "['apple', 'banana', 'coconut']\n",
      "['orange', 'coconut', 'banana', 'apple']\n"
     ]
    }
   ],
   "source": [
    "print(fruits)\n",
    "print(fruits[3])\n",
    "print(fruits[0:3])\n",
    "print(fruits[::-1])"
   ]
  },
  {
   "cell_type": "code",
   "execution_count": 11,
   "id": "85d81749",
   "metadata": {},
   "outputs": [
    {
     "name": "stdout",
     "output_type": "stream",
     "text": [
      "4\n"
     ]
    }
   ],
   "source": [
    "print(len(fruits))"
   ]
  },
  {
   "cell_type": "code",
   "execution_count": 14,
   "id": "8b751624",
   "metadata": {},
   "outputs": [
    {
     "name": "stdout",
     "output_type": "stream",
     "text": [
      "['apple', 'banana', 'coconut', 'orange']\n"
     ]
    }
   ],
   "source": [
    "fruits[0] = \"apple\"\n",
    "print(fruits)"
   ]
  },
  {
   "cell_type": "code",
   "execution_count": 15,
   "id": "efdc1aa5",
   "metadata": {},
   "outputs": [
    {
     "name": "stdout",
     "output_type": "stream",
     "text": [
      "['apple', 'banana', 'coconut', 'orange', 'grapes']\n"
     ]
    }
   ],
   "source": [
    "fruits.append(\"grapes\")\n",
    "print(fruits)"
   ]
  },
  {
   "cell_type": "code",
   "execution_count": 19,
   "id": "33fa164e",
   "metadata": {},
   "outputs": [
    {
     "name": "stdout",
     "output_type": "stream",
     "text": [
      "['banana', 'coconut', 'orange', 'grapes']\n"
     ]
    }
   ],
   "source": [
    "fruits.remove(\"apple\")\n",
    "print(fruits)"
   ]
  },
  {
   "cell_type": "code",
   "execution_count": 20,
   "id": "657a4e84",
   "metadata": {},
   "outputs": [
    {
     "name": "stdout",
     "output_type": "stream",
     "text": [
      "['banana', 'orange', 'grapes']\n"
     ]
    }
   ],
   "source": [
    "fruits.pop(1)\n",
    "print(fruits)"
   ]
  },
  {
   "cell_type": "code",
   "execution_count": 21,
   "id": "f5715018",
   "metadata": {},
   "outputs": [
    {
     "name": "stdout",
     "output_type": "stream",
     "text": [
      "['banana', 'pineapple', 'orange', 'grapes']\n"
     ]
    }
   ],
   "source": [
    "fruits.insert(1, \"pineapple\")\n",
    "print(fruits)"
   ]
  },
  {
   "cell_type": "code",
   "execution_count": 13,
   "id": "0296d3a0",
   "metadata": {},
   "outputs": [
    {
     "name": "stdout",
     "output_type": "stream",
     "text": [
      "True\n",
      "True\n",
      "False\n",
      "True\n"
     ]
    }
   ],
   "source": [
    "list1=[1,2,3,[4,5]]\n",
    "print(1 in list1)\n",
    "print([4,5] in list1)\n",
    "print(4 in list1)\n",
    "print(4 in list1[3])"
   ]
  },
  {
   "cell_type": "code",
   "execution_count": 16,
   "id": "bb446f24",
   "metadata": {},
   "outputs": [
    {
     "name": "stdout",
     "output_type": "stream",
     "text": [
      "[4, 5, [6, 7, 8], 9]\n",
      "[6, 7, 8]\n"
     ]
    }
   ],
   "source": [
    "list=[1, 2, 3,[4, 5,[6, 7, 8], 9]]\n",
    "print(list[3])\n",
    "print(list[3][2])"
   ]
  },
  {
   "cell_type": "code",
   "execution_count": 17,
   "id": "95d66122",
   "metadata": {},
   "outputs": [
    {
     "name": "stdout",
     "output_type": "stream",
     "text": [
      "7\n"
     ]
    }
   ],
   "source": [
    "print(list[3][2][1])"
   ]
  },
  {
   "cell_type": "code",
   "execution_count": 22,
   "id": "6ea349c7",
   "metadata": {},
   "outputs": [
    {
     "name": "stdout",
     "output_type": "stream",
     "text": [
      "['APPLE', 'BANANA', 'CHERRY']\n"
     ]
    }
   ],
   "source": [
    "words = ['apple', 'banana', 'cherry']\n",
    "uppercased = [word.upper() for word in words]\n",
    "print(uppercased)"
   ]
  },
  {
   "cell_type": "code",
   "execution_count": 25,
   "id": "ccb82d3e",
   "metadata": {},
   "outputs": [
    {
     "name": "stdout",
     "output_type": "stream",
     "text": [
      "['__and__', '__class__', '__class_getitem__', '__contains__', '__delattr__', '__dir__', '__doc__', '__eq__', '__format__', '__ge__', '__getattribute__', '__getstate__', '__gt__', '__hash__', '__iand__', '__init__', '__init_subclass__', '__ior__', '__isub__', '__iter__', '__ixor__', '__le__', '__len__', '__lt__', '__ne__', '__new__', '__or__', '__rand__', '__reduce__', '__reduce_ex__', '__repr__', '__ror__', '__rsub__', '__rxor__', '__setattr__', '__sizeof__', '__str__', '__sub__', '__subclasshook__', '__xor__', 'add', 'clear', 'copy', 'difference', 'difference_update', 'discard', 'intersection', 'intersection_update', 'isdisjoint', 'issubset', 'issuperset', 'pop', 'remove', 'symmetric_difference', 'symmetric_difference_update', 'union', 'update']\n"
     ]
    }
   ],
   "source": [
    "cars = {'tesla', 'byd', 'omoda', 'bmw','bmw', 'tesla'}\n",
    "print(dir(cars))"
   ]
  },
  {
   "cell_type": "code",
   "execution_count": 26,
   "id": "8cd3b428",
   "metadata": {},
   "outputs": [
    {
     "name": "stdout",
     "output_type": "stream",
     "text": [
      "{'bmw', 'tesla', 'byd', 'omoda'}\n"
     ]
    }
   ],
   "source": [
    "print(cars)"
   ]
  },
  {
   "cell_type": "code",
   "execution_count": 27,
   "id": "2c31b296",
   "metadata": {},
   "outputs": [
    {
     "name": "stdout",
     "output_type": "stream",
     "text": [
      "{'tesla', 'byd'}\n"
     ]
    }
   ],
   "source": [
    "cars.remove('omoda')\n",
    "cars.pop()\n",
    "print(cars)"
   ]
  },
  {
   "cell_type": "code",
   "execution_count": 31,
   "id": "f8a89955",
   "metadata": {},
   "outputs": [],
   "source": [
    "set = {'Python', 'Java', 'C#'}\n",
    "set.remove('C#')"
   ]
  },
  {
   "cell_type": "code",
   "execution_count": 32,
   "id": "482efe86",
   "metadata": {},
   "outputs": [],
   "source": [
    "set.discard('C#')"
   ]
  },
  {
   "cell_type": "code",
   "execution_count": 33,
   "id": "0f7e6d1c",
   "metadata": {},
   "outputs": [
    {
     "name": "stdout",
     "output_type": "stream",
     "text": [
      "{'Java', 'Python'}\n"
     ]
    }
   ],
   "source": [
    "print(set)"
   ]
  },
  {
   "cell_type": "code",
   "execution_count": 37,
   "id": "bd255ebd",
   "metadata": {},
   "outputs": [
    {
     "name": "stdout",
     "output_type": "stream",
     "text": [
      "{'toyota', 'bmw', 'byd', 'rangerover'}\n",
      "['__and__', '__class__', '__class_getitem__', '__contains__', '__delattr__', '__dir__', '__doc__', '__eq__', '__format__', '__ge__', '__getattribute__', '__getstate__', '__gt__', '__hash__', '__iand__', '__init__', '__init_subclass__', '__ior__', '__isub__', '__iter__', '__ixor__', '__le__', '__len__', '__lt__', '__ne__', '__new__', '__or__', '__rand__', '__reduce__', '__reduce_ex__', '__repr__', '__ror__', '__rsub__', '__rxor__', '__setattr__', '__sizeof__', '__str__', '__sub__', '__subclasshook__', '__xor__', 'add', 'clear', 'copy', 'difference', 'difference_update', 'discard', 'intersection', 'intersection_update', 'isdisjoint', 'issubset', 'issuperset', 'pop', 'remove', 'symmetric_difference', 'symmetric_difference_update', 'union', 'update']\n"
     ]
    },
    {
     "data": {
      "text/plain": [
       "4"
      ]
     },
     "execution_count": 37,
     "metadata": {},
     "output_type": "execute_result"
    }
   ],
   "source": [
    "#Tuples () ordered and unchangeable.\n",
    "#Duplicate ok, Faster\n",
    "cars2={'bmw', 'rangerover', 'toyota', 'byd', 'bmw', 'toyota'}\n",
    "print(cars2)\n",
    "print(dir(cars2))\n",
    "len(cars2)"
   ]
  },
  {
   "cell_type": "code",
   "execution_count": null,
   "id": "d2a0f9bf",
   "metadata": {},
   "outputs": [
    {
     "name": "stdout",
     "output_type": "stream",
     "text": [
      "('Apple', 'banana', 'cherry', 'watermelon', 'orange')\n"
     ]
    }
   ],
   "source": [
    "#Tuples packing\n",
    "newTuple= ('Apple', 'banana', 'cherry', 'watermelon')\n",
    "y = (\"orange\",)\n",
    "newTuple+=y\n",
    "print(newTuple)"
   ]
  },
  {
   "cell_type": "code",
   "execution_count": 38,
   "id": "32f72b61",
   "metadata": {},
   "outputs": [
    {
     "name": "stdout",
     "output_type": "stream",
     "text": [
      "apple\n",
      "banana\n",
      "cherry\n"
     ]
    }
   ],
   "source": [
    "fruits = ('apple', 'banana','cherry')\n",
    "(green, yellow, red)=fruits\n",
    "print(green)\n",
    "print(yellow)\n",
    "print(red)\n"
   ]
  },
  {
   "cell_type": "code",
   "execution_count": 39,
   "id": "ade542fa",
   "metadata": {},
   "outputs": [
    {
     "name": "stdout",
     "output_type": "stream",
     "text": [
      "apple\n",
      "banana\n",
      "['cherry', 'grapes', 'watermelon']\n"
     ]
    }
   ],
   "source": [
    "fruits2 = ('apple', 'banana','cherry', 'grapes', 'watermelon')\n",
    "(green, yellow, *red)=fruits2\n",
    "print(green)\n",
    "print(yellow)\n",
    "print(red)"
   ]
  },
  {
   "cell_type": "code",
   "execution_count": 40,
   "id": "3c7e1769",
   "metadata": {},
   "outputs": [
    {
     "name": "stdout",
     "output_type": "stream",
     "text": [
      "(1, 2, (3, 4), ['a', 'b'])\n"
     ]
    }
   ],
   "source": [
    "#Nested Tuples\n",
    "t = (1, 2, (3, 4),[\"a\", \"b\"])\n",
    "print(t)"
   ]
  },
  {
   "cell_type": "code",
   "execution_count": 47,
   "id": "d045b108",
   "metadata": {},
   "outputs": [
    {
     "name": "stdout",
     "output_type": "stream",
     "text": [
      "<class 'str'>\n"
     ]
    }
   ],
   "source": [
    "#del list\n",
    "fruits = (\"apple\")\n",
    "print(type(fruits))\n"
   ]
  },
  {
   "cell_type": "code",
   "execution_count": 43,
   "id": "e58d46be",
   "metadata": {},
   "outputs": [
    {
     "name": "stdout",
     "output_type": "stream",
     "text": [
      "[1, 'hello', 3.14, True] (1, 'hello', 3.14, True) {1, 3, 'hello', 14}\n"
     ]
    }
   ],
   "source": [
    "list = [1, \"hello\", 3.14, True]\n",
    "tuple = (1, \"hello\", 3.14, True)\n",
    "set = {1, \"hello\", 3,14, True}\n",
    "print(list, tuple, set)"
   ]
  },
  {
   "cell_type": "code",
   "execution_count": 45,
   "id": "1b7a86f7",
   "metadata": {},
   "outputs": [
    {
     "name": "stdout",
     "output_type": "stream",
     "text": [
      "banana is in the list\n"
     ]
    }
   ],
   "source": [
    "list = [\"apple\", \"banana\", \"pineapple\", \"strawberry\"]\n",
    "if \"banana\" in list:\n",
    "    print(\"banana is in the list\")\n",
    "else:\n",
    "    print(\"banana is not on the list\")"
   ]
  },
  {
   "cell_type": "code",
   "execution_count": 48,
   "id": "dad016a5",
   "metadata": {},
   "outputs": [
    {
     "name": "stdout",
     "output_type": "stream",
     "text": [
      "apple\n",
      "banana\n",
      "strawberry\n",
      "grapes\n"
     ]
    }
   ],
   "source": [
    "#While loops to print fruits\n",
    "fruits = [\"apple\", \"banana\", \"strawberry\", \"grapes\"]\n",
    "i=0\n",
    "while i<len(fruits):\n",
    "    print(fruits[i])\n",
    "    i+=1"
   ]
  },
  {
   "cell_type": "code",
   "execution_count": 49,
   "id": "485cbfa0",
   "metadata": {},
   "outputs": [
    {
     "name": "stdout",
     "output_type": "stream",
     "text": [
      "['apple', 'banana', 'strawberry', 'grapes', 'apple', 'banana', 'strawberry', 'grapes']\n"
     ]
    }
   ],
   "source": [
    "print(fruits*2)"
   ]
  },
  {
   "cell_type": "code",
   "execution_count": 57,
   "id": "990ac323",
   "metadata": {},
   "outputs": [
    {
     "name": "stdout",
     "output_type": "stream",
     "text": [
      "20\n",
      "20\n",
      "['__class__', '__class_getitem__', '__contains__', '__delattr__', '__delitem__', '__dir__', '__doc__', '__eq__', '__format__', '__ge__', '__getattribute__', '__getitem__', '__getstate__', '__gt__', '__hash__', '__init__', '__init_subclass__', '__ior__', '__iter__', '__le__', '__len__', '__lt__', '__ne__', '__new__', '__or__', '__reduce__', '__reduce_ex__', '__repr__', '__reversed__', '__ror__', '__setattr__', '__setitem__', '__sizeof__', '__str__', '__subclasshook__', 'clear', 'copy', 'fromkeys', 'get', 'items', 'keys', 'pop', 'popitem', 'setdefault', 'update', 'values']\n",
      "Help on dict object:\n",
      "\n",
      "class dict(object)\n",
      " |  dict() -> new empty dictionary\n",
      " |  dict(mapping) -> new dictionary initialized from a mapping object's\n",
      " |      (key, value) pairs\n",
      " |  dict(iterable) -> new dictionary initialized as if via:\n",
      " |      d = {}\n",
      " |      for k, v in iterable:\n",
      " |          d[k] = v\n",
      " |  dict(**kwargs) -> new dictionary initialized with the name=value pairs\n",
      " |      in the keyword argument list.  For example:  dict(one=1, two=2)\n",
      " |\n",
      " |  Methods defined here:\n",
      " |\n",
      " |  __contains__(self, key, /)\n",
      " |      True if the dictionary has the specified key, else False.\n",
      " |\n",
      " |  __delitem__(self, key, /)\n",
      " |      Delete self[key].\n",
      " |\n",
      " |  __eq__(self, value, /)\n",
      " |      Return self==value.\n",
      " |\n",
      " |  __ge__(self, value, /)\n",
      " |      Return self>=value.\n",
      " |\n",
      " |  __getattribute__(self, name, /)\n",
      " |      Return getattr(self, name).\n",
      " |\n",
      " |  __getitem__(self, key, /)\n",
      " |      Return self[key].\n",
      " |\n",
      " |  __gt__(self, value, /)\n",
      " |      Return self>value.\n",
      " |\n",
      " |  __init__(self, /, *args, **kwargs)\n",
      " |      Initialize self.  See help(type(self)) for accurate signature.\n",
      " |\n",
      " |  __ior__(self, value, /)\n",
      " |      Return self|=value.\n",
      " |\n",
      " |  __iter__(self, /)\n",
      " |      Implement iter(self).\n",
      " |\n",
      " |  __le__(self, value, /)\n",
      " |      Return self<=value.\n",
      " |\n",
      " |  __len__(self, /)\n",
      " |      Return len(self).\n",
      " |\n",
      " |  __lt__(self, value, /)\n",
      " |      Return self<value.\n",
      " |\n",
      " |  __ne__(self, value, /)\n",
      " |      Return self!=value.\n",
      " |\n",
      " |  __or__(self, value, /)\n",
      " |      Return self|value.\n",
      " |\n",
      " |  __repr__(self, /)\n",
      " |      Return repr(self).\n",
      " |\n",
      " |  __reversed__(self, /)\n",
      " |      Return a reverse iterator over the dict keys.\n",
      " |\n",
      " |  __ror__(self, value, /)\n",
      " |      Return value|self.\n",
      " |\n",
      " |  __setitem__(self, key, value, /)\n",
      " |      Set self[key] to value.\n",
      " |\n",
      " |  __sizeof__(self, /)\n",
      " |      Return the size of the dict in memory, in bytes.\n",
      " |\n",
      " |  clear(self, /)\n",
      " |      Remove all items from the dict.\n",
      " |\n",
      " |  copy(self, /)\n",
      " |      Return a shallow copy of the dict.\n",
      " |\n",
      " |  get(self, key, default=None, /)\n",
      " |      Return the value for key if key is in the dictionary, else default.\n",
      " |\n",
      " |  items(self, /)\n",
      " |      Return a set-like object providing a view on the dict's items.\n",
      " |\n",
      " |  keys(self, /)\n",
      " |      Return a set-like object providing a view on the dict's keys.\n",
      " |\n",
      " |  pop(self, key, default=<unrepresentable>, /)\n",
      " |      D.pop(k[,d]) -> v, remove specified key and return the corresponding value.\n",
      " |\n",
      " |      If the key is not found, return the default if given; otherwise,\n",
      " |      raise a KeyError.\n",
      " |\n",
      " |  popitem(self, /)\n",
      " |      Remove and return a (key, value) pair as a 2-tuple.\n",
      " |\n",
      " |      Pairs are returned in LIFO (last-in, first-out) order.\n",
      " |      Raises KeyError if the dict is empty.\n",
      " |\n",
      " |  setdefault(self, key, default=None, /)\n",
      " |      Insert key with a value of default if key is not in the dictionary.\n",
      " |\n",
      " |      Return the value for key if key is in the dictionary, else default.\n",
      " |\n",
      " |  update(...)\n",
      " |      D.update([E, ]**F) -> None.  Update D from mapping/iterable E and F.\n",
      " |      If E is present and has a .keys() method, then does:  for k in E.keys(): D[k] = E[k]\n",
      " |      If E is present and lacks a .keys() method, then does:  for k, v in E: D[k] = v\n",
      " |      In either case, this is followed by: for k in F:  D[k] = F[k]\n",
      " |\n",
      " |  values(self, /)\n",
      " |      Return an object providing a view on the dict's values.\n",
      " |\n",
      " |  ----------------------------------------------------------------------\n",
      " |  Class methods defined here:\n",
      " |\n",
      " |  __class_getitem__(object, /)\n",
      " |      See PEP 585\n",
      " |\n",
      " |  fromkeys(iterable, value=None, /)\n",
      " |      Create a new dictionary with keys from iterable and values set to value.\n",
      " |\n",
      " |  ----------------------------------------------------------------------\n",
      " |  Static methods defined here:\n",
      " |\n",
      " |  __new__(*args, **kwargs)\n",
      " |      Create and return a new object.  See help(type) for accurate signature.\n",
      " |\n",
      " |  ----------------------------------------------------------------------\n",
      " |  Data and other attributes defined here:\n",
      " |\n",
      " |  __hash__ = None\n",
      "\n",
      "None\n"
     ]
    }
   ],
   "source": [
    "student = {\n",
    "    1: \"first\",\n",
    "    \"name\": \"Alice\",\n",
    "    \"age\": 20,\n",
    "    \"course\": [\"Math\", \"Science\"]\n",
    "}\n",
    "print(student[\"age\"])\n",
    "print(student.get(\"age\"))#next method to print\n",
    "\n",
    "print(dir(student))\n",
    "print(help(student))\n",
    "\n",
    "#Using dict() costructor\n",
    "student = dict(name=\"Dinesh\", age=19, city=\"Kathmandu\")"
   ]
  },
  {
   "cell_type": "code",
   "execution_count": 58,
   "id": "56254a17",
   "metadata": {},
   "outputs": [
    {
     "name": "stdout",
     "output_type": "stream",
     "text": [
      "{'name': 'Dinesh', 'age': 19, 'city': 'Kathmandu', 'job': 'Engineer'}\n"
     ]
    }
   ],
   "source": [
    "#Adding and updating\n",
    "student[\"job\"] = \"Engineer\"\n",
    "student[\"age\"]=19\n",
    "print(student)"
   ]
  },
  {
   "cell_type": "code",
   "execution_count": 59,
   "id": "3fc55ace",
   "metadata": {},
   "outputs": [
    {
     "name": "stdout",
     "output_type": "stream",
     "text": [
      "Name exists\n"
     ]
    }
   ],
   "source": [
    "#Checking if a key exists in dictionary\n",
    "if \"Dinesh\" in student.values():\n",
    "    print(\"Name exists\")\n",
    "else:\n",
    "    print(\"Name not exists\")"
   ]
  },
  {
   "cell_type": "code",
   "execution_count": 60,
   "id": "8f06a45a",
   "metadata": {},
   "outputs": [
    {
     "name": "stdout",
     "output_type": "stream",
     "text": [
      "name\n",
      "age\n",
      "city\n",
      "job\n",
      "Dinesh\n",
      "19\n",
      "Kathmandu\n",
      "Engineer\n",
      "name Dinesh\n",
      "age 19\n",
      "city Kathmandu\n",
      "job Engineer\n"
     ]
    }
   ],
   "source": [
    "for key in student:\n",
    "    print(key)\n",
    "for value in student.values():\n",
    "    print(value)\n",
    "for key, value in student.items():\n",
    "    print(key, value)        "
   ]
  },
  {
   "cell_type": "code",
   "execution_count": 62,
   "id": "2fd46ac6",
   "metadata": {},
   "outputs": [
    {
     "name": "stdout",
     "output_type": "stream",
     "text": [
      "Alice\n"
     ]
    }
   ],
   "source": [
    "#nested dictionary\n",
    "students = {\n",
    "    \"student1\": {\"name\": \"Alice\", \"age\": 20},\n",
    "    \"student2\": {\"name\": \"Bob\", \"age\": 30}\n",
    "}\n",
    "print(students[\"student1\"][\"name\"])"
   ]
  },
  {
   "cell_type": "code",
   "execution_count": 63,
   "id": "ef489b57",
   "metadata": {},
   "outputs": [
    {
     "name": "stdout",
     "output_type": "stream",
     "text": [
      "{0: 0, 1: 1, 2: 4, 3: 9, 4: 16}\n"
     ]
    }
   ],
   "source": [
    "#Dictionary Comprehension\n",
    "squares = {x: x*x for x in range(5)}\n",
    "print(squares)"
   ]
  },
  {
   "cell_type": "code",
   "execution_count": null,
   "id": "33823c7c",
   "metadata": {},
   "outputs": [],
   "source": []
  }
 ],
 "metadata": {
  "kernelspec": {
   "display_name": "Python 3",
   "language": "python",
   "name": "python3"
  },
  "language_info": {
   "codemirror_mode": {
    "name": "ipython",
    "version": 3
   },
   "file_extension": ".py",
   "mimetype": "text/x-python",
   "name": "python",
   "nbconvert_exporter": "python",
   "pygments_lexer": "ipython3",
   "version": "3.13.1"
  }
 },
 "nbformat": 4,
 "nbformat_minor": 5
}
